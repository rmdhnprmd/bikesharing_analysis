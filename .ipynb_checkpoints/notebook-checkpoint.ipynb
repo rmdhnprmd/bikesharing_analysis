{
 "cells": [
  {
   "metadata": {},
   "cell_type": "markdown",
   "source": [
    "# Proyek Analisis Data: Bike Sharing Dataset\n",
    "- **Nama:** Ramadhan Permadi\n",
    "- **Email:** rmdhnprmd@gmail.com\n",
    "- **ID Dicoding:** rmdhnprmd6"
   ],
   "id": "b2c2a8ec1ce98b11"
  },
  {
   "metadata": {},
   "cell_type": "markdown",
   "source": "## Menentukan Pertanyaan Bisnis",
   "id": "3334e1ebba98bd01"
  },
  {
   "metadata": {},
   "cell_type": "markdown",
   "source": [
    "- Pertanyaan 1\n",
    "- Pertanyaan 2"
   ],
   "id": "3d4d29cd70a07487"
  },
  {
   "metadata": {},
   "cell_type": "markdown",
   "source": "## Import Packages/Library",
   "id": "1c6881a66b4a946a"
  },
  {
   "metadata": {
    "ExecuteTime": {
     "end_time": "2024-11-21T06:22:35.140767Z",
     "start_time": "2024-11-21T06:22:35.138742Z"
    }
   },
   "cell_type": "code",
   "source": [
    "import numpy as np\n",
    "import pandas as pd\n",
    "import matplotlib.pyplot as plt\n",
    "import seaborn as sns"
   ],
   "id": "667ab67014a8282",
   "outputs": [],
   "execution_count": 1
  },
  {
   "metadata": {},
   "cell_type": "markdown",
   "source": "## Data Wrangling",
   "id": "27f4543b3e414adc"
  },
  {
   "metadata": {},
   "cell_type": "markdown",
   "source": "### Gathering Data",
   "id": "a6f0851286a822d7"
  },
  {
   "metadata": {},
   "cell_type": "code",
   "outputs": [],
   "execution_count": null,
   "source": "",
   "id": "43650e0cd10bd5c4"
  }
 ],
 "metadata": {
  "kernelspec": {
   "display_name": "Python 3",
   "language": "python",
   "name": "python3"
  },
  "language_info": {
   "codemirror_mode": {
    "name": "ipython",
    "version": 2
   },
   "file_extension": ".py",
   "mimetype": "text/x-python",
   "name": "python",
   "nbconvert_exporter": "python",
   "pygments_lexer": "ipython2",
   "version": "2.7.6"
  }
 },
 "nbformat": 4,
 "nbformat_minor": 5
}
